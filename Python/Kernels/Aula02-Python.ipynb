{
 "cells": [
  {
   "cell_type": "markdown",
   "metadata": {},
   "source": [
    "## Lista\n"
   ]
  },
  {
   "cell_type": "code",
   "execution_count": null,
   "metadata": {},
   "outputs": [],
   "source": [
    "lista = [] # Lista é definida por colchetes\n",
    "type(lista)\n",
    "\n",
    "len(lista)\n",
    "\n",
    "lista.append(1) # Adiciona no final da lista\n",
    "lista.append(5)\n",
    "print(lista)\n",
    "\n",
    "print(lista[0], lista[1]) # Posição/ Index\n",
    "\n",
    "new_lista = [1, 4, 'Ana', 'Bia', ['C#', \"Python\", 'Node'], 2.14] # Listas aceitam qualquer tipo de váriavel incluse outras listas\n",
    "print(new_lista)\n",
    "print(new_lista[3])\n",
    "print(new_lista[4])\n",
    "print(new_lista[4][1])\n",
    "print(new_lista[4][1][0:2])\n",
    "\n",
    "new_lista.remove(4) # Remover o primeiro elemento 4 que aparece no indíce\n",
    "print(new_lista)\n",
    "\n",
    "new_lista.reverse() # Inverte a posição dos elementos da lista\n",
    "print(new_lista)\n",
    "\n",
    "del new_lista[2] # Outro jeito de deletar\n",
    "print(new_lista)"
   ]
  },
  {
   "cell_type": "code",
   "execution_count": null,
   "metadata": {},
   "outputs": [
    {
     "name": "stdout",
     "output_type": "stream",
     "text": [
      "1\n",
      "2\n",
      "3\n",
      "False\n",
      "True\n",
      "[1, 5, 'Raquel', 'Guilherme', 3.134, 'Guilherme', 'Andre']\n",
      "[1, 5, 'Ana', 'Raquel', 'Guilherme', 3.134, 'Guilherme', 'Andre']\n",
      "[1, 5, ['Tupac', 'Biggie', 'Ice cube'], 'Ana', 'Raquel', 'Guilherme', 3.134, 'Guilherme', 'Andre']\n"
     ]
    }
   ],
   "source": [
    "listinha = [1, 5, 'Raquel', 'Guilherme', 3.134, 'Guilherme']\n",
    "print(listinha.index(5)) # Procurar index pelos elementos\n",
    "print(listinha.index('Raquel'))\n",
    "print(listinha.index('Guilherme'))\n",
    "\n",
    "print('Andre' in listinha) # Verificar se há o elemento na lista\n",
    "print('Raquel' in listinha)\n",
    "\n",
    "listinha.append('Andre') # Coloca na última posição\n",
    "print(listinha)\n",
    "\n",
    "listinha.insert(2, 'Ana') # Coloca no indice desejado\n",
    "print(listinha)\n",
    "\n",
    "listinha.insert(2, ['Tupac', 'Biggie', 'Ice cube'])\n",
    "print(listinha)"
   ]
  },
  {
   "cell_type": "code",
   "execution_count": null,
   "metadata": {},
   "outputs": [
    {
     "name": "stdout",
     "output_type": "stream",
     "text": [
      "['Aline', 'Guilherme']\n",
      "['Aline', 'Guilherme', 'Andre']\n",
      "['Aline', 'Guilherme', 'Andre', 'Dani']\n"
     ]
    }
   ],
   "source": [
    "listona = ['Ana', 'Aline', 'Guilherme', 'Andre', 'Dani']\n",
    "print(listona[1:3])\n",
    "print(listona[1: -1])\n",
    "print(listona[1:])"
   ]
  },
  {
   "cell_type": "markdown",
   "metadata": {},
   "source": [
    "## Tupla"
   ]
  },
  {
   "cell_type": "code",
   "execution_count": null,
   "metadata": {},
   "outputs": [
    {
     "name": "stdout",
     "output_type": "stream",
     "text": [
      "('Verde', 'Amarelo', 'Azul')\n",
      "('Verde', 'Amarelo', 'Azul', 'Branco', 'Roxo')\n",
      "['Verde', 'Amarelo', 'Azul', 'Branco', 'Roxo']\n",
      "('Verde', 'Amarelo', 'Azul', 'Branco', 'Roxo')\n"
     ]
    }
   ],
   "source": [
    "tupla = () # É uma lista que não pode ser editada (seria uma lista fixa)\n",
    "type(tupla)\n",
    "\n",
    "cores = ('Verde', 'Amarelo', 'Azul', 'Branco', 'Roxo')\n",
    "print(cores[0:-2])\n",
    "\n",
    "cores_list = list(cores) # Tupla para lista\n",
    "print(cores)\n",
    "print(cores_list)\n",
    "\n",
    "cores_tupla = tuple(cores_list) # Lista para tupla\n",
    "print(cores_tupla)"
   ]
  },
  {
   "cell_type": "markdown",
   "metadata": {},
   "source": [
    "## Dicionário"
   ]
  },
  {
   "cell_type": "code",
   "execution_count": null,
   "metadata": {},
   "outputs": [
    {
     "name": "stdout",
     "output_type": "stream",
     "text": [
      "{'Nome': 'João', 'Idade': 19, 'Altura': 1.77}\n",
      "19\n",
      "João\n",
      "{'Nome': 'João', 'Idade': 19, 'Altura': 1.77, 'Cursos': ['C#', 'Node', 'React', 'Python']}\n",
      "1.77\n",
      "['C#', 'Node', 'React', 'Python']\n",
      "Python\n",
      "dict_keys(['Nome', 'Idade', 'Altura', 'Cursos'])\n",
      "dict_values(['João', 19, 1.77, ['C#', 'Node', 'React', 'Python']])\n",
      "dict_items([('Nome', 'João'), ('Idade', 19), ('Altura', 1.77), ('Cursos', ['C#', 'Node', 'React', 'Python'])])\n",
      "\n",
      "[('Nome', 'João'), ('Idade', 19), ('Altura', 1.77), ('Cursos', ['C#', 'Node', 'React', 'Python'])]\n",
      "('Altura', 1.77)\n",
      "('Cursos', ['C#', 'Node', 'React', 'Python'])\n",
      "<class 'tuple'>\n",
      "<class 'str'>\n",
      "<class 'list'>\n",
      "Pytho\n"
     ]
    }
   ],
   "source": [
    "pessoa = {} # Dicionário chave valor\n",
    "type(pessoa)\n",
    "\n",
    "pessoa = {'Nome': 'João', 'Idade': 19, 'Altura': 1.77}\n",
    "print(pessoa) # A ordem não importa em dicionários pois os indíces são substituídos pelas chaves\n",
    "\n",
    "print(pessoa['Idade'])\n",
    "print(pessoa['Nome'])\n",
    "\n",
    "pessoa = {'Nome': 'João', 'Idade': 19, 'Altura': 1.77, 'Cursos':['C#', 'Node', 'React', 'Python']}\n",
    "\n",
    "print(pessoa)\n",
    "\n",
    "print(pessoa['Altura'])\n",
    "print(pessoa['Cursos'])\n",
    "print(pessoa['Cursos'][3])\n",
    "\n",
    "print(pessoa.keys()) # Procurar as chaves de um dicionário\n",
    "print(pessoa.values()) # Procurar as valores de um dicionário\n",
    "print(pessoa.items()) # Traz tanto a chave quanto o valor\n",
    "print()\n",
    "\n",
    "items = list(pessoa.items()) # Dicionário para lista\n",
    "print(items)\n",
    "print(items[2])\n",
    "print(items[3])\n",
    "print(type(items[3]))\n",
    "print(type(items[3][0]))\n",
    "print(type(items[3][1]))\n",
    "\n",
    "print(items[3][1][3][:-1])\n"
   ]
  },
  {
   "cell_type": "code",
   "execution_count": null,
   "metadata": {},
   "outputs": [
    {
     "name": "stdout",
     "output_type": "stream",
     "text": [
      "19\n",
      "{'Nome': 'André', 'Idade': 34, 'Altura': 1.87, 'Genero': 'M'}\n"
     ]
    }
   ],
   "source": [
    "lista_pessoas = [{'Nome': 'João', 'Idade': 19, 'Altura': 1.77},\n",
    "                {'Nome': 'Giulia', 'Idade': 19, 'Altura': 1.52},\n",
    "                {'Nome': 'Carlos', 'Idade': 14, 'Altura': 1.73},\n",
    "                {'Nome': 'Bia', 'Idade': 23, 'Altura': 1.69}] # Dicionários dentro de listas\n",
    "\n",
    "print(lista_pessoas[0]['Idade'])\n",
    "\n",
    "pessoa1 = {'Nome':'André', 'Idade':35, 'Altura':1.87}\n",
    "pessoa1.update({'Idade':34, 'Genero': 'M'})\n",
    "print(pessoa1)\n"
   ]
  },
  {
   "cell_type": "markdown",
   "metadata": {},
   "source": [
    "## IF"
   ]
  },
  {
   "cell_type": "code",
   "execution_count": 5,
   "metadata": {},
   "outputs": [
    {
     "name": "stdout",
     "output_type": "stream",
     "text": [
      "4\n",
      "<class 'str'>\n",
      "<class 'int'>\n"
     ]
    }
   ],
   "source": [
    "a = input('Digite o valor: ') # Inputs\n",
    "print(a)\n",
    "print(type(a))\n",
    "A = int(a)\n",
    "print(type((A)))"
   ]
  },
  {
   "cell_type": "code",
   "execution_count": 8,
   "metadata": {},
   "outputs": [
    {
     "name": "stdout",
     "output_type": "stream",
     "text": [
      "Resultado: a-5\n"
     ]
    }
   ],
   "source": [
    "a = int(input('Digite o valor: '))\n",
    "b = int(input('Digite o valor: '))\n",
    "c = int(input('Digite o valor: '))\n",
    "\n",
    "if a > b  and a > c:\n",
    "    print('Resultado: a-' + str(a))\n",
    "elif b > c and b > c:\n",
    "    print('Resultado: b-' + str(b))\n",
    "else: \n",
    "    print('Resultado: c-' + str(c))"
   ]
  }
 ],
 "metadata": {
  "kernelspec": {
   "display_name": "Python 3.9.12 ('base')",
   "language": "python",
   "name": "python3"
  },
  "language_info": {
   "name": "python",
   "version": "3.9.12"
  },
  "orig_nbformat": 4,
  "vscode": {
   "interpreter": {
    "hash": "c2ac33c749b6f5a19513f23060cc56b0b221f5c5ec70c42654bc653f6cede32e"
   }
  }
 },
 "nbformat": 4,
 "nbformat_minor": 2
}
