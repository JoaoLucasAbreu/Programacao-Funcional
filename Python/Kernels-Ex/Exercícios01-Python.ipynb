{
 "cells": [
  {
   "cell_type": "markdown",
   "metadata": {},
   "source": [
    "# Exercícios 1\n"
   ]
  },
  {
   "cell_type": "markdown",
   "metadata": {},
   "source": [
    "## Ex-1\n",
    "Crie uma variável String e a exiba no sentido inverso "
   ]
  },
  {
   "cell_type": "code",
   "execution_count": 1,
   "metadata": {},
   "outputs": [
    {
     "name": "stdout",
     "output_type": "stream",
     "text": [
      "sacuL oãoJ\n"
     ]
    }
   ],
   "source": [
    "palavra = 'João Lucas'\n",
    "palavra = palavra[::-1]\n",
    "print(palavra)"
   ]
  },
  {
   "cell_type": "markdown",
   "metadata": {},
   "source": [
    "## Ex-2\n",
    "Verifique se na frase “Python é uma linguagem excelente” existe as expressões:\n",
    "'py’, 'ing’, ‘zzz’"
   ]
  },
  {
   "cell_type": "code",
   "execution_count": 5,
   "metadata": {},
   "outputs": [
    {
     "name": "stdout",
     "output_type": "stream",
     "text": [
      "False\n",
      "True\n",
      "False\n"
     ]
    }
   ],
   "source": [
    "frase = 'Python é uma linguagem excelente'\n",
    "print('py' in frase)\n",
    "print('ing' in frase)\n",
    "print('zzz' in frase)"
   ]
  },
  {
   "cell_type": "markdown",
   "metadata": {},
   "source": [
    "## Ex-3\n",
    "Para:\n",
    "salario = 3450.45,\n",
    "despesas = 2456.2,\n",
    "Calcule o percentual do salário comprometido com as despesas"
   ]
  },
  {
   "cell_type": "code",
   "execution_count": 9,
   "metadata": {},
   "outputs": [
    {
     "name": "stdout",
     "output_type": "stream",
     "text": [
      "71.18%\n"
     ]
    }
   ],
   "source": [
    "salario = 3450.45\n",
    "despesas = 2456.2\n",
    "print(f'{despesas/salario * 100:.2f}%')"
   ]
  },
  {
   "cell_type": "markdown",
   "metadata": {},
   "source": [
    "## Ex-4\n",
    "Crie um programa em Python capaz de receber dois número x e y e que imprima na tela o resultado da soma destes números"
   ]
  },
  {
   "cell_type": "code",
   "execution_count": 11,
   "metadata": {},
   "outputs": [
    {
     "name": "stdout",
     "output_type": "stream",
     "text": [
      "O valor de 5 + 5 é 10\n"
     ]
    }
   ],
   "source": [
    "x = int(input(\"Digite x: \"))\n",
    "y = int(input(\"Digite y: \"))\n",
    "\n",
    "print(f'O valor de {x} + {y} é {x + y}')"
   ]
  },
  {
   "cell_type": "markdown",
   "metadata": {},
   "source": [
    "## Ex-5\n",
    "Faça uma rotina que receba a idade de um pessoa e determine se ela é: Menor de idade (<18), \n",
    "Adulto (entre 18 e 65),\n",
    "Melhor idade (66 e 100) e \n",
    "Centenário > 100"
   ]
  },
  {
   "cell_type": "code",
   "execution_count": 24,
   "metadata": {},
   "outputs": [
    {
     "name": "stdout",
     "output_type": "stream",
     "text": [
      "Centenário\n"
     ]
    }
   ],
   "source": [
    "idade = int(input(\"Idade = \"))\n",
    "\n",
    "if idade < 18:\n",
    "    print(\"Menor de idade\")\n",
    "\n",
    "elif idade >= 18 and idade <= 65:\n",
    "    print(\"Adulto\")\n",
    "\n",
    "elif idade >= 66 and idade <= 100:\n",
    "    print(\"Melhor idade\")\n",
    "    \n",
    "else:\n",
    "    print(\"Centenário\")"
   ]
  },
  {
   "cell_type": "markdown",
   "metadata": {},
   "source": [
    "## Ex-6\n",
    "Exiba a palavra 'paralelepípedo’ com suas letras separadas por virgulas -> p,a,r,a,l,e,l,e,p,í,p,e,d,o,"
   ]
  },
  {
   "cell_type": "code",
   "execution_count": 26,
   "metadata": {},
   "outputs": [
    {
     "name": "stdout",
     "output_type": "stream",
     "text": [
      "p,a,r,a,l,e,l,e,p,í,p,e,d,o,"
     ]
    }
   ],
   "source": [
    "palavra = 'paralelepípedo'\n",
    "\n",
    "for l in palavra:\n",
    "    print(f'{l},', end=\"\")\n"
   ]
  },
  {
   "cell_type": "markdown",
   "metadata": {},
   "source": [
    "## Ex-7\n",
    "Exiba cada nome em uma linha diferente -> ['Danieli', ‘André', ‘Marcelo', ‘Ana Paula’] "
   ]
  },
  {
   "cell_type": "code",
   "execution_count": 27,
   "metadata": {},
   "outputs": [
    {
     "name": "stdout",
     "output_type": "stream",
     "text": [
      "Danieli\n",
      "André\n",
      "Marcelo\n",
      "Ana Paula\n"
     ]
    }
   ],
   "source": [
    "lista = ['Danieli', 'André', 'Marcelo', 'Ana Paula']\n",
    "for l in lista:\n",
    "    print(l)"
   ]
  },
  {
   "cell_type": "markdown",
   "metadata": {},
   "source": [
    "## Ex-8\n",
    "Sorteie um numero de 0 – 9 utilizando a função randint(0, 9) e solicite ao usuário inserir um numero até o mesmo acertar o valor sorteado randomicamente, ao acertar o valor exiba a frase “Número secreto x foi encontrado!” e pare o processamento."
   ]
  },
  {
   "cell_type": "code",
   "execution_count": 29,
   "metadata": {},
   "outputs": [
    {
     "name": "stdout",
     "output_type": "stream",
     "text": [
      "Número errado! :(\n",
      "Número errado! :(\n",
      "Número errado! :(\n",
      "Número errado! :(\n",
      "Número errado! :(\n",
      "Número errado! :(\n",
      "Número errado! :(\n",
      "Número errado! :(\n",
      "Número errado! :(\n",
      "Número errado! :(\n",
      "Número errado! :(\n",
      "O número secreto x foi encontrado!\n"
     ]
    }
   ],
   "source": [
    "from random import randint\n",
    "\n",
    "achou = False\n",
    "while (achou == False):\n",
    "    n = int(input(\"Ache o número x: \"))\n",
    "\n",
    "    if n == randint(0, 9):\n",
    "        print(\"O número secreto x foi encontrado!\")\n",
    "        achou = True\n",
    "    else:\n",
    "        print(\"Número errado! :(\")\n",
    "    "
   ]
  },
  {
   "cell_type": "markdown",
   "metadata": {},
   "source": [
    "## Ex-9\n",
    "Receba um número de entrada e e faça uma sequência de Fibonacci de 10 posições"
   ]
  },
  {
   "cell_type": "code",
   "execution_count": 36,
   "metadata": {},
   "outputs": [
    {
     "name": "stdout",
     "output_type": "stream",
     "text": [
      "índice 4 = 16\n",
      "índice 4 = 16\n",
      "índice 4 = 16\n",
      "índice 4 = 16\n",
      "índice 4 = 16\n",
      "índice 4 = 16\n",
      "índice 4 = 16\n",
      "índice 4 = 16\n",
      "índice 4 = 16\n",
      "índice 4 = 16\n"
     ]
    }
   ],
   "source": [
    "def fibo_index(i):\n",
    "    fibonacci = [0]\n",
    "\n",
    "    a = 0\n",
    "    b = 1\n",
    "\n",
    "    for t in range(0, i + 10):\n",
    "        a = b \n",
    "        b = b + a\n",
    "        fibonacci.append(b)\n",
    "\n",
    "    for t in range(i, i + 10):\n",
    "        print(f'índice {i} = {fibonacci[i]}')\n",
    "\n",
    "\n",
    "fibo_index(int(input(\"Digite\")))\n"
   ]
  }
 ],
 "metadata": {
  "kernelspec": {
   "display_name": "Python 3.9.12 ('base')",
   "language": "python",
   "name": "python3"
  },
  "language_info": {
   "codemirror_mode": {
    "name": "ipython",
    "version": 3
   },
   "file_extension": ".py",
   "mimetype": "text/x-python",
   "name": "python",
   "nbconvert_exporter": "python",
   "pygments_lexer": "ipython3",
   "version": "3.9.12"
  },
  "orig_nbformat": 4,
  "vscode": {
   "interpreter": {
    "hash": "c2ac33c749b6f5a19513f23060cc56b0b221f5c5ec70c42654bc653f6cede32e"
   }
  }
 },
 "nbformat": 4,
 "nbformat_minor": 2
}
