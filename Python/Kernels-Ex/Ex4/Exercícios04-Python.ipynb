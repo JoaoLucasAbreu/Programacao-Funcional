{
 "cells": [
  {
   "cell_type": "markdown",
   "metadata": {},
   "source": [
    "# Exercícios 4"
   ]
  },
  {
   "cell_type": "markdown",
   "metadata": {},
   "source": [
    "## Ex-1:\n",
    "No paradigma funcional usando map retorne frases '< Nome > tem < idade > anos.'\n",
    "Para o list a seguir:\n",
    "lista = [\n",
    "{'nome': 'João', 'idade': 31},\n",
    "{'nome': 'Maria', 'idade': 37},\n",
    "{'nome': 'José', 'idade': 26}\n",
    "]"
   ]
  },
  {
   "cell_type": "code",
   "execution_count": 17,
   "metadata": {},
   "outputs": [
    {
     "name": "stdout",
     "output_type": "stream",
     "text": [
      "['João tem 31 anos.', 'Maria tem 37 anos.', 'José tem 26 anos.']\n"
     ]
    }
   ],
   "source": [
    "lista = [\n",
    "{'nome': 'João', 'idade': 31},\n",
    "{'nome': 'Maria', 'idade': 37},\n",
    "{'nome': 'José', 'idade': 26}\n",
    "]\n",
    "\n",
    "frases = map(lambda p: p['nome'] + ' tem ' + str(p['idade']) + ' anos.', lista)\n",
    "print(list(frases))\n",
    "\n",
    "for n in frases: \n",
    "    print(n)\n",
    "    \n"
   ]
  },
  {
   "cell_type": "markdown",
   "metadata": {},
   "source": [
    "## Ex-2:\n",
    "Para a lista \n",
    "pessoas = [\n",
    "{'nome': 'Pedro', 'idade': 11},\n",
    "{'nome': 'Mariana', 'idade': 18},\n",
    "{'nome': 'Arthur', 'idade': 26},\n",
    "{'nome': 'Rebeca', 'idade': 6},\n",
    "{'nome': 'Tiago', 'idade': 19},\n",
    "{'nome': 'Gabriela', 'idade': 17},\n",
    "]\n",
    "\n",
    "Utilizando apenas função lambda e as funções map, reduce e filter. Crie um script que some todas \n",
    "as idades das pessoas com menos de 18 anos:"
   ]
  },
  {
   "cell_type": "code",
   "execution_count": 18,
   "metadata": {},
   "outputs": [
    {
     "name": "stdout",
     "output_type": "stream",
     "text": [
      "34\n",
      "34\n"
     ]
    }
   ],
   "source": [
    "from functools import reduce\n",
    "\n",
    "\n",
    "pessoas = [\n",
    "{'nome': 'Pedro', 'idade': 11},\n",
    "{'nome': 'Mariana', 'idade': 18},\n",
    "{'nome': 'Arthur', 'idade': 26},\n",
    "{'nome': 'Rebeca', 'idade': 6},\n",
    "{'nome': 'Tiago', 'idade': 19},\n",
    "{'nome': 'Gabriela', 'idade': 17},\n",
    "]\n",
    "\n",
    "mapeado = map(lambda i: i['idade'], pessoas)\n",
    "filtrado = filter(lambda f: f < 18, mapeado)\n",
    "soma_idades = reduce(lambda idade, f: idade + f, filtrado, 0)\n",
    "print(soma_idades)\n",
    "\n",
    "soma_idades = reduce(lambda idade, f: idade + f, filter(lambda f: f < 18, map(lambda i: i['idade'], pessoas)), 0)\n",
    "print(soma_idades)"
   ]
  },
  {
   "cell_type": "markdown",
   "metadata": {},
   "source": [
    "## Ex-3\n",
    "Utilizando o paradigma funcional. Faça uma função que calcule a progressão aritimetica de 0 - n com constante r = 1."
   ]
  },
  {
   "cell_type": "code",
   "execution_count": 10,
   "metadata": {},
   "outputs": [
    {
     "data": {
      "text/plain": [
       "' termo =int(input(\"Primeiro elemento: \") )\\nn = int(input(\"Quantos elementos exibir: \") )\\n\\n    for index in range(1, n + 1):\\n    termo = termo + (0 - n) * 1\\n    print(termo, end=\" \")  \\n    \\nt = [termo]   \\npa = any(map(lambda _: t.append(t[-1] + (0 - n) * 1), range(1, n)))\\npa\\nt '"
      ]
     },
     "execution_count": 10,
     "metadata": {},
     "output_type": "execute_result"
    }
   ],
   "source": [
    "\"\"\" termo =int(input(\"Primeiro elemento: \") )\n",
    "n = int(input(\"Quantos elementos exibir: \") )\n",
    "\n",
    "    for index in range(1, n + 1):\n",
    "    termo = termo + (0 - n) * 1\n",
    "    print(termo, end=\" \")  \n",
    "    \n",
    "t = [termo]   \n",
    "pa = any(map(lambda _: t.append(t[-1] + (0 - n) * 1), range(1, n)))\n",
    "pa\n",
    "t \"\"\""
   ]
  },
  {
   "cell_type": "code",
   "execution_count": 11,
   "metadata": {},
   "outputs": [
    {
     "data": {
      "text/plain": [
       "[7, 9, 11, 13]"
      ]
     },
     "execution_count": 11,
     "metadata": {},
     "output_type": "execute_result"
    }
   ],
   "source": [
    "termo = int(input(\"Primeiro elemento: \") )\n",
    "n = int(input(\"Quantos elementos exibir: \") )\n",
    "\n",
    "\"\"\" for index in range(1, n + 1):\n",
    "    termo = termo + (0 - n) * 1\n",
    "    print(termo, end=\" \")  \"\"\"\n",
    "      \n",
    "pa = list(map(lambda t, index: termo + (index - 1) * 2, range(termo, termo + n + 1), range(1, n + 1)))\n",
    "pa\n"
   ]
  },
  {
   "cell_type": "code",
   "execution_count": 13,
   "metadata": {},
   "outputs": [
    {
     "data": {
      "text/plain": [
       "[0, 1, 2, 3, 4, 5, 6, 7, 8]"
      ]
     },
     "execution_count": 13,
     "metadata": {},
     "output_type": "execute_result"
    }
   ],
   "source": [
    "termo = 0\n",
    "n = int(input(\"Quantos elementos exibir: \"))\n",
    "pa = list(map(lambda index: termo + (index - 1) * 1, range(1, n + 1)))\n",
    "pa"
   ]
  },
  {
   "cell_type": "markdown",
   "metadata": {},
   "source": [
    "## Ex-4\n",
    "Faça uma sequencia Fibonacci de 10 elementos, iniciando do elemento 0 -> elementos [0,1, 1, 2, 3, 5, 8, 13, 21, 34]\n",
    "(obs: não utilize paradigma imperativo) "
   ]
  },
  {
   "cell_type": "code",
   "execution_count": 3,
   "metadata": {},
   "outputs": [
    {
     "data": {
      "text/plain": [
       "[0, 1, 1, 2, 3, 5, 8, 13, 21, 34]"
      ]
     },
     "execution_count": 3,
     "metadata": {},
     "output_type": "execute_result"
    }
   ],
   "source": [
    "res = [0, 1]\n",
    "fibo = any(map(lambda _: res.append(sum(res[-2:])), range(2, 10)))\n",
    "fibo\n",
    "res"
   ]
  }
 ],
 "metadata": {
  "kernelspec": {
   "display_name": "Python 3.9.12 ('base')",
   "language": "python",
   "name": "python3"
  },
  "language_info": {
   "codemirror_mode": {
    "name": "ipython",
    "version": 3
   },
   "file_extension": ".py",
   "mimetype": "text/x-python",
   "name": "python",
   "nbconvert_exporter": "python",
   "pygments_lexer": "ipython3",
   "version": "3.9.12"
  },
  "orig_nbformat": 4,
  "vscode": {
   "interpreter": {
    "hash": "c2ac33c749b6f5a19513f23060cc56b0b221f5c5ec70c42654bc653f6cede32e"
   }
  }
 },
 "nbformat": 4,
 "nbformat_minor": 2
}
