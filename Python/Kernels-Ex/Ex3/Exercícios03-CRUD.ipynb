{
 "cells": [
  {
   "cell_type": "markdown",
   "metadata": {},
   "source": [
    "# Exercícios 3"
   ]
  },
  {
   "cell_type": "code",
   "execution_count": 9,
   "metadata": {},
   "outputs": [],
   "source": [
    "import sqlite3\n",
    "\n",
    "conn = sqlite3.connect('ex3.db')\n",
    "\n",
    "cursor = conn.cursor()\n",
    "\n",
    "cursor.execute(\"\"\"\n",
    "CREATE TABLE IF NOT EXISTS author(\n",
    "    authorID INTEGER NOT NULL PRIMARY KEY AUTOINCREMENT,\n",
    "    name TEXT NOT NULL\n",
    ")\n",
    "\"\"\")   \n",
    "\n",
    "cursor.execute(\"\"\"\n",
    "CREATE TABLE IF NOT EXISTS post(\n",
    "    postID INTEGER NOT NULL PRIMARY KEY AUTOINCREMENT,\n",
    "    authorID INTEGER NOT NULL,\n",
    "    title TEXT NOT NULL,\n",
    "    created DATETIME,\n",
    "    FOREIGN KEY(authorID) REFERENCES author(authorID)\n",
    ")\n",
    "\"\"\")\n",
    "\n",
    "conn.commit()\n",
    "\n",
    "conn.close()"
   ]
  },
  {
   "cell_type": "code",
   "execution_count": null,
   "metadata": {},
   "outputs": [],
   "source": [
    "import sqlite3\n",
    "\n",
    "conn = sqlite3.connect('espm4s.db')\n",
    "\n",
    "cursor = conn.cursor()\n",
    "\n",
    "nome = input('Digite o nome: ')\n",
    "idade = int(input('Digite a idade: '))\n",
    "\n",
    "cursor.execute('INSERT INTO tb_pessoas (nome,idade) VALUES (?,?)', (nome, idade))\n",
    "\n",
    "print('linha criada')\n",
    "\n",
    "conn.commit()\n",
    "\n",
    "conn.close()"
   ]
  }
 ],
 "metadata": {
  "kernelspec": {
   "display_name": "Python 3.9.12 ('base')",
   "language": "python",
   "name": "python3"
  },
  "language_info": {
   "codemirror_mode": {
    "name": "ipython",
    "version": 3
   },
   "file_extension": ".py",
   "mimetype": "text/x-python",
   "name": "python",
   "nbconvert_exporter": "python",
   "pygments_lexer": "ipython3",
   "version": "3.9.12"
  },
  "orig_nbformat": 4,
  "vscode": {
   "interpreter": {
    "hash": "c2ac33c749b6f5a19513f23060cc56b0b221f5c5ec70c42654bc653f6cede32e"
   }
  }
 },
 "nbformat": 4,
 "nbformat_minor": 2
}
