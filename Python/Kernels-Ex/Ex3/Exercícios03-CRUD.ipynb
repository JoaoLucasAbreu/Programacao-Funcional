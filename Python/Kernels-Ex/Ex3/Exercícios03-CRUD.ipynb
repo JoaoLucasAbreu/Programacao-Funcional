{
 "cells": [
  {
   "cell_type": "markdown",
   "metadata": {},
   "source": [
    "# Exercícios 3"
   ]
  },
  {
   "cell_type": "code",
   "execution_count": 1,
   "metadata": {},
   "outputs": [],
   "source": [
    "import sqlite3\n",
    "\n",
    "conn = sqlite3.connect('ex3.db')\n",
    "\n",
    "cursor = conn.cursor()\n",
    "\n",
    "cursor.execute(\"\"\"\n",
    "CREATE TABLE IF NOT EXISTS author(\n",
    "    authorID INTEGER NOT NULL PRIMARY KEY AUTOINCREMENT,\n",
    "    name TEXT NOT NULL\n",
    ")\n",
    "\"\"\")   \n",
    "\n",
    "cursor.execute(\"\"\"\n",
    "CREATE TABLE IF NOT EXISTS post(\n",
    "    postID INTEGER NOT NULL PRIMARY KEY AUTOINCREMENT,\n",
    "    authorID INTEGER,\n",
    "    title TEXT NOT NULL,\n",
    "    created DATETIME,\n",
    "    FOREIGN KEY(authorID) REFERENCES author(authorID)\n",
    ")\n",
    "\"\"\")\n",
    "\n",
    "conn.commit()\n",
    "\n",
    "conn.close()"
   ]
  },
  {
   "cell_type": "code",
   "execution_count": null,
   "metadata": {},
   "outputs": [],
   "source": []
  },
  {
   "cell_type": "code",
   "execution_count": 4,
   "metadata": {},
   "outputs": [
    {
     "name": "stdout",
     "output_type": "stream",
     "text": [
      "Cadastro de Livros\n",
      "-----------------------\n",
      "Opções:\n",
      "[1] Adicionar\n",
      " [2] Listar\n",
      " [3] Atualizar\n",
      " [4] Remover\n",
      " [5] Sair\n"
     ]
    },
    {
     "ename": "OperationalError",
     "evalue": "near \"values\": syntax error",
     "output_type": "error",
     "traceback": [
      "\u001b[1;31m---------------------------------------------------------------------------\u001b[0m",
      "\u001b[1;31mOperationalError\u001b[0m                          Traceback (most recent call last)",
      "\u001b[1;32mc:\\Users\\J.ABREU\\OneDrive - ESPM\\4° SEMESTRE\\Python\\Kernels-Ex\\Ex3\\Exercícios03-CRUD.ipynb Célula: 4\u001b[0m in \u001b[0;36m<cell line: 10>\u001b[1;34m()\u001b[0m\n\u001b[0;32m     <a href='vscode-notebook-cell:/c%3A/Users/J.ABREU/OneDrive%20-%20ESPM/4%C2%B0%20SEMESTRE/Python/Kernels-Ex/Ex3/Exerc%C3%ADcios03-CRUD.ipynb#W3sZmlsZQ%3D%3D?line=23'>24</a>\u001b[0m post \u001b[39m=\u001b[39m Post(\u001b[39minput\u001b[39m(\u001b[39m\"\u001b[39m\u001b[39mTitulo do Livro:\u001b[39m\u001b[39m\"\u001b[39m))\n\u001b[0;32m     <a href='vscode-notebook-cell:/c%3A/Users/J.ABREU/OneDrive%20-%20ESPM/4%C2%B0%20SEMESTRE/Python/Kernels-Ex/Ex3/Exerc%C3%ADcios03-CRUD.ipynb#W3sZmlsZQ%3D%3D?line=24'>25</a>\u001b[0m cursor\u001b[39m.\u001b[39mexecute(\u001b[39m'\u001b[39m\u001b[39mINSERT INTO author (name) VALUES (?)\u001b[39m\u001b[39m'\u001b[39m, (author\u001b[39m.\u001b[39mnome,))\n\u001b[1;32m---> <a href='vscode-notebook-cell:/c%3A/Users/J.ABREU/OneDrive%20-%20ESPM/4%C2%B0%20SEMESTRE/Python/Kernels-Ex/Ex3/Exerc%C3%ADcios03-CRUD.ipynb#W3sZmlsZQ%3D%3D?line=25'>26</a>\u001b[0m authorid \u001b[39m=\u001b[39m cursor\u001b[39m.\u001b[39;49mexecute(\u001b[39m'\u001b[39;49m\u001b[39mSELECT authorID FROM author WHERE name = values(?)\u001b[39;49m\u001b[39m'\u001b[39;49m, (author\u001b[39m.\u001b[39;49mnome,))   \n\u001b[0;32m     <a href='vscode-notebook-cell:/c%3A/Users/J.ABREU/OneDrive%20-%20ESPM/4%C2%B0%20SEMESTRE/Python/Kernels-Ex/Ex3/Exerc%C3%ADcios03-CRUD.ipynb#W3sZmlsZQ%3D%3D?line=26'>27</a>\u001b[0m cursor\u001b[39m.\u001b[39mexecute(\u001b[39m'\u001b[39m\u001b[39mINSERT INTO post (authorID, title, created) VALUES (?, ?, ?)\u001b[39m\u001b[39m'\u001b[39m, (authorid, post\u001b[39m.\u001b[39mtitulo, date\u001b[39m.\u001b[39mtoday(),))\n\u001b[0;32m     <a href='vscode-notebook-cell:/c%3A/Users/J.ABREU/OneDrive%20-%20ESPM/4%C2%B0%20SEMESTRE/Python/Kernels-Ex/Ex3/Exerc%C3%ADcios03-CRUD.ipynb#W3sZmlsZQ%3D%3D?line=27'>28</a>\u001b[0m \u001b[39mprint\u001b[39m(\u001b[39m'\u001b[39m\u001b[39mlinha criada\u001b[39m\u001b[39m'\u001b[39m)\n",
      "\u001b[1;31mOperationalError\u001b[0m: near \"values\": syntax error"
     ]
    }
   ],
   "source": [
    "import time\n",
    "from datetime import date\n",
    "from Author import Author\n",
    "from Post import Post\n",
    "\n",
    "conn = sqlite3.connect('ex3.db')\n",
    "cursor = conn.cursor()\n",
    "\n",
    "passar = False\n",
    "while passar == False:\n",
    "    print(\"Cadastro de Livros\\n\" +\n",
    "          \"-----------------------\")\n",
    "    time.sleep(2)\n",
    "    print(\"Opções:\\n\" +\n",
    "          \"[1] Adicionar\\n\",\n",
    "          \"[2] Listar\\n\",\n",
    "          \"[3] Atualizar\\n\",\n",
    "          \"[4] Remover\\n\",\n",
    "          \"[5] Sair\")\n",
    "    x = int(input(\"R:\"))\n",
    "    time.sleep(2)\n",
    "    if x == 1:\n",
    "      author = Author(input(\"Nome do Autor:\"))\n",
    "      post = Post(input(\"Titulo do Livro:\"))\n",
    "      cursor.execute('INSERT INTO author (name) VALUES (?)', (author.nome,))\n",
    "      authorid = cursor.execute('SELECT authorID FROM author WHERE name = values(?)', (author.nome,))   \n",
    "      cursor.execute('INSERT INTO post (authorID, title, created) VALUES (?, ?, ?)', (authorid, post.titulo, date.today(),))\n",
    "      print('linha criada')\n",
    "\n",
    "      conn.commit()\n",
    "      conn.close()\n",
    "#     elif x == 2:\n",
    "#     elif x == 3:\n",
    "#     elif x == 4:\n",
    "#     elif x == 5:\n",
    "#     else:\n"
   ]
  },
  {
   "cell_type": "code",
   "execution_count": null,
   "metadata": {},
   "outputs": [],
   "source": [
    "import sqlite3\n",
    "\n",
    "conn = sqlite3.connect('espm4s.db')\n",
    "\n",
    "cursor = conn.cursor()\n",
    "\n",
    "nome = input('Digite o nome: ')\n",
    "idade = int(input('Digite a idade: '))\n",
    "\n",
    "cursor.execute('INSERT INTO tb_pessoas (nome,idade) VALUES (?,?)', (nome, idade))\n",
    "\n",
    "print('linha criada')\n",
    "\n",
    "conn.commit()\n",
    "\n",
    "conn.close()"
   ]
  }
 ],
 "metadata": {
  "kernelspec": {
   "display_name": "Python 3.9.12 ('base')",
   "language": "python",
   "name": "python3"
  },
  "language_info": {
   "codemirror_mode": {
    "name": "ipython",
    "version": 3
   },
   "file_extension": ".py",
   "mimetype": "text/x-python",
   "name": "python",
   "nbconvert_exporter": "python",
   "pygments_lexer": "ipython3",
   "version": "3.9.12"
  },
  "orig_nbformat": 4,
  "vscode": {
   "interpreter": {
    "hash": "c2ac33c749b6f5a19513f23060cc56b0b221f5c5ec70c42654bc653f6cede32e"
   }
  }
 },
 "nbformat": 4,
 "nbformat_minor": 2
}
