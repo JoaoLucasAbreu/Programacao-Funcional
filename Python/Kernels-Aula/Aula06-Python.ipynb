{
 "cells": [
  {
   "cell_type": "markdown",
   "metadata": {},
   "source": [
    "# Programação Funcional"
   ]
  },
  {
   "cell_type": "markdown",
   "metadata": {},
   "source": [
    "## Funções de Primeira Classe\n",
    "Capacidade de usar as funções como entidades de primeira classe, em\n",
    "variáveis por exemplo:"
   ]
  },
  {
   "cell_type": "code",
   "execution_count": 3,
   "metadata": {},
   "outputs": [
    {
     "name": "stdout",
     "output_type": "stream",
     "text": [
      "10\n",
      "25\n"
     ]
    }
   ],
   "source": [
    "def dobro(x):\n",
    "    return x * 2\n",
    "\n",
    "def quadrado(x):\n",
    "    return x ** 2\n",
    "\n",
    "if __name__ == '__main__':\n",
    "    d = dobro\n",
    "    print(d(5))\n",
    "\n",
    "    q = quadrado\n",
    "    print(q(5))"
   ]
  },
  {
   "cell_type": "markdown",
   "metadata": {},
   "source": [
    "## High Order Functions - Funções de alta ordem\n",
    "Capacidade de uma função de receber como parâmetro e/ou retornar outras funções:"
   ]
  },
  {
   "cell_type": "code",
   "execution_count": 10,
   "metadata": {},
   "outputs": [
    {
     "name": "stdout",
     "output_type": "stream",
     "text": [
      "Processando: Dobros de 1 a 10\n",
      "1 => 2\n",
      "2 => 4\n",
      "3 => 6\n",
      "4 => 8\n",
      "5 => 10\n",
      "6 => 12\n",
      "7 => 14\n",
      "8 => 16\n",
      "9 => 18\n",
      "10 => 20\n",
      "Processando: Quadrados de 1 a 10\n",
      "1 => 1\n",
      "2 => 4\n",
      "3 => 9\n",
      "4 => 16\n",
      "5 => 25\n",
      "6 => 36\n",
      "7 => 49\n",
      "8 => 64\n",
      "9 => 81\n",
      "10 => 100\n"
     ]
    }
   ],
   "source": [
    "from primeiraclasse import dobro, quadrado\n",
    "\n",
    "def processar(titulo, lista, funcao):\n",
    "    print(f'Processando: {titulo}')\n",
    "    for i in lista:\n",
    "        print(i, '=>', funcao(i))\n",
    "\n",
    "\n",
    "if __name__ == '__main__':\n",
    "   p = processar\n",
    "   p('Dobros de 1 a 10', range(1, 11), dobro)\n",
    "   processar('Quadrados de 1 a 10', range(1, 11), quadrado)"
   ]
  },
  {
   "cell_type": "markdown",
   "metadata": {},
   "source": [
    "## Closure - Funções com escopos aninhados\n",
    "Funções que podem ser aninhadas e ter acesso ao escopo da função na qual foi definida, inclusive impedindo o Garbage Colector de libera-las."
   ]
  },
  {
   "cell_type": "code",
   "execution_count": 14,
   "metadata": {},
   "outputs": [
    {
     "name": "stdout",
     "output_type": "stream",
     "text": [
      "<function multiplicar.<locals>.calcular at 0x000001B87F2A6EE0>\n",
      "<function multiplicar.<locals>.calcular at 0x000001B87F2A6B80>\n",
      "O dobro de 3 é 6\n",
      "O triplo de 7 é 21\n"
     ]
    }
   ],
   "source": [
    "def multiplicar(x):\n",
    "    def calcular(y):\n",
    "        return y * x\n",
    "    \n",
    "    return calcular #Retornando uma função para atribuição de váriavel futuramente\n",
    "\n",
    "if __name__ == '__main__':\n",
    "    dobro = multiplicar(2) # 2 foi inserido na função \"multiplicar\" e o retorno será é a função \"calcular\"\n",
    "    triplo = multiplicar(3)\n",
    "    print(dobro) \n",
    "    print(triplo)\n",
    "    print(f'O dobro de 3 é {dobro(3)}') # O valor 3 será inserido agora na função \"calcular\"\n",
    "    print(f'O triplo de 7 é {triplo(7)}')"
   ]
  },
  {
   "cell_type": "markdown",
   "metadata": {},
   "source": [
    "## Anonymous Functions - Funções anônimas (lambda)\n",
    "O lambda (no alfabeto grego λ) é baseado num conceito matemático e computacional chamado de lambda calculus e sua sintaxe é quase uma cópia da sintaxe do Lisp, na qual foi baseada. Na prática são funções anônimas, que nem precisam ter um identificador definido. Em Python podemos utiliza-las através do lambda."
   ]
  },
  {
   "cell_type": "code",
   "execution_count": 15,
   "metadata": {},
   "outputs": [
    {
     "name": "stdout",
     "output_type": "stream",
     "text": [
      "print maroto para testar\n",
      "Processando: Dobros de 1 a 10\n",
      "1 => 2\n",
      "2 => 4\n",
      "3 => 6\n",
      "4 => 8\n",
      "5 => 10\n",
      "6 => 12\n",
      "7 => 14\n",
      "8 => 16\n",
      "9 => 18\n",
      "10 => 20\n"
     ]
    }
   ],
   "source": [
    "def processar(titulo, lista, funcao):\n",
    "    print(f'Processando: {titulo}')\n",
    "    for i in lista:\n",
    "        print(i, '=>', funcao(i))\n",
    "\n",
    "if __name__ == '__main__':\n",
    "    p = processar\n",
    "    print('print maroto para testar')\n",
    "    p('Dobros de 1 a 10', range(1, 11), lambda x: x*2) # Lambda só ocupa memória no momento da execução dela, sem necessidade de garbage collector\n"
   ]
  },
  {
   "cell_type": "markdown",
   "metadata": {},
   "source": [
    "## Ferramentas Funcionais\n",
    "Map: A função map é muito usada em liguagens funcionais como Haskell e Lisp. Executa uma função em cada elemento de uma lista ou de um conjunto de listas.\n",
    "\n",
    "Filter: filtra uma lista segundo o resultado de uma função booleana.\n",
    "\n",
    "Reduce (import functools): serve pra \"reduzir\" um iterável (como uma lista) a um único valor."
   ]
  },
  {
   "cell_type": "markdown",
   "metadata": {},
   "source": [
    "### Map"
   ]
  },
  {
   "cell_type": "code",
   "execution_count": 19,
   "metadata": {},
   "outputs": [
    {
     "name": "stdout",
     "output_type": "stream",
     "text": [
      "<map object at 0x000001B87FFB1F40>\n",
      "['João', 'Maria', 'Rosa']\n",
      "['João', 'Maria', 'Rosa']\n"
     ]
    }
   ],
   "source": [
    "lista = [\n",
    "    {'nome': 'João', 'idade': 19},\n",
    "    {'nome': 'Maria', 'idade': 26},\n",
    "    {'nome': 'Rosa', 'idade': 60}\n",
    "]\n",
    "\n",
    "nomes_coletados = map(lambda p: p['nome'], lista)\n",
    "print(nomes_coletados)\n",
    "print(list(nomes_coletados))\n",
    "\n",
    "# Mesmo código em uma única linha\n",
    "print(list(map(lambda p: p['nome'], lista)))"
   ]
  },
  {
   "cell_type": "markdown",
   "metadata": {},
   "source": [
    "### Filter"
   ]
  },
  {
   "cell_type": "code",
   "execution_count": 3,
   "metadata": {},
   "outputs": [
    {
     "name": "stdout",
     "output_type": "stream",
     "text": [
      "[{'nome': 'Pedro', 'idade': 11}, {'nome': 'Rebeca', 'idade': 6}, {'nome': 'Gabriela', 'idade': 17}]\n",
      "[{'nome': 'Pedro', 'idade': 11}, {'nome': 'Rebeca', 'idade': 6}, {'nome': 'Gabriela', 'idade': 17}]\n"
     ]
    }
   ],
   "source": [
    "pessoas = [\n",
    "    {'nome': 'Pedro', 'idade': 11},\n",
    "    {'nome': 'Mariana', 'idade': 18},\n",
    "    {'nome': 'Arthur', 'idade': 26},\n",
    "    {'nome': 'Rebeca', 'idade': 6},\n",
    "    {'nome': 'Tiago', 'idade': 19},\n",
    "    {'nome': 'Gabriela', 'idade': 17}\n",
    "]\n",
    "\n",
    "menores_idade1 = []\n",
    "for p in pessoas: \n",
    "    if p['idade'] < 18:\n",
    "        menores_idade1.append(p)\n",
    "\n",
    "print(menores_idade1)\n",
    "\n",
    "# funcional com filter\n",
    "menores_idade2 = filter(lambda p: p['idade'] < 18, pessoas)\n",
    "print(list(menores_idade2))"
   ]
  },
  {
   "cell_type": "markdown",
   "metadata": {},
   "source": [
    "### Reduce"
   ]
  },
  {
   "cell_type": "code",
   "execution_count": 7,
   "metadata": {},
   "outputs": [
    {
     "name": "stdout",
     "output_type": "stream",
     "text": [
      "98\n"
     ]
    }
   ],
   "source": [
    "from functools import reduce\n",
    "\n",
    "pessoas = [\n",
    "    {'nome': 'Pedro', 'idade': 11},\n",
    "    {'nome': 'Mariana', 'idade': 18},\n",
    "    {'nome': 'Arthur', 'idade': 26},\n",
    "    {'nome': 'Rebeca', 'idade': 6},\n",
    "    {'nome': 'Tiago', 'idade': 19},\n",
    "    {'nome': 'Gabriela', 'idade': 17}\n",
    "]\n",
    "\n",
    "# O \"Reduce\" soma/ totaliza o valor que você indicar\n",
    "soma_idades = reduce(lambda idade, pessoa: idade + pessoa['idade'], pessoas, 0)\n",
    "print(soma_idades)"
   ]
  },
  {
   "cell_type": "markdown",
   "metadata": {},
   "source": [
    "## Recursividade\n",
    "Funções recursivas (que chamam a si mesmas) são bastante comuns nas mais diversas linguagens de programação, pois normalmente utilizam a sintaxe normal de chamada de funções.\n",
    "Toda função recursiva deve ter uma (ou mais) condição(ões) de parada, sem a(s) qual(is) se tornaria basicamente um loop infinito e pararia em um erro de estouro de pilha de chamadas (stack overflow), ao consumir todo o espaço dedicado para tal fim. \n",
    "Em Python a exceção gerada é RecursionError com a mensagem maximum recursion depth exceeded."
   ]
  },
  {
   "cell_type": "code",
   "execution_count": 3,
   "metadata": {},
   "outputs": [
    {
     "name": "stdout",
     "output_type": "stream",
     "text": [
      "120\n",
      "120\n"
     ]
    }
   ],
   "source": [
    "def fatorial_imperativo(n):\n",
    "    resultado = 1 \n",
    "    for i in range(1, n + 1):\n",
    "        resultado = resultado * i\n",
    "    return resultado\n",
    "\n",
    "def fatorial_imperativo_func(n):\n",
    "    return n * (fatorial_imperativo_func(n - 1) if (n-1) > 1 else 1)\n",
    "\n",
    "if __name__ == '__main__':\n",
    "    print(fatorial_imperativo(5))\n",
    "    print(fatorial_imperativo_func(5))\n"
   ]
  }
 ],
 "metadata": {
  "kernelspec": {
   "display_name": "Python 3.9.12 ('base')",
   "language": "python",
   "name": "python3"
  },
  "language_info": {
   "codemirror_mode": {
    "name": "ipython",
    "version": 3
   },
   "file_extension": ".py",
   "mimetype": "text/x-python",
   "name": "python",
   "nbconvert_exporter": "python",
   "pygments_lexer": "ipython3",
   "version": "3.9.12"
  },
  "orig_nbformat": 4,
  "vscode": {
   "interpreter": {
    "hash": "c2ac33c749b6f5a19513f23060cc56b0b221f5c5ec70c42654bc653f6cede32e"
   }
  }
 },
 "nbformat": 4,
 "nbformat_minor": 2
}
