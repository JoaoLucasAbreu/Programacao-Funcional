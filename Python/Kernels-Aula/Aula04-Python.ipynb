{
 "cells": [
  {
   "cell_type": "markdown",
   "metadata": {},
   "source": [
    "# POO"
   ]
  },
  {
   "cell_type": "code",
   "execution_count": 6,
   "metadata": {},
   "outputs": [
    {
     "name": "stdout",
     "output_type": "stream",
     "text": [
      "Python é legal\n",
      "6.15\n",
      "Olá a todos eu sou o Professor\n",
      "8.25\n"
     ]
    }
   ],
   "source": [
    "class Pessoa:\n",
    "    def __init__(self, altura, peso, cor_cabelo, cor_olho): # Init é o construtor / Self vale a instância do endereço de memória do objeto criado\n",
    "        self.altura = altura\n",
    "        self.peso = peso\n",
    "        self.cor_cabelo = cor_cabelo\n",
    "        self.cor_olho = cor_olho\n",
    "\n",
    "    def falar(self, frase):\n",
    "        return frase\n",
    "\n",
    "    def andar(self, velocidade):\n",
    "        velocidade_real = velocidade - 0.01*self.peso\n",
    "        return velocidade_real\n",
    "\n",
    "class Professor(Pessoa): # Está herdando a classe pessoa\n",
    "    def __init__(self, altura, peso, cor_cabelo, cor_olho, salario):\n",
    "        super().__init__(altura, peso, cor_cabelo, cor_olho) # \n",
    "        self.salario = salario\n",
    "\n",
    "    def falar(self, frase):\n",
    "         return frase + ' eu sou o Professor'\n",
    "\n",
    "def main():\n",
    "        PessoaObj = Pessoa(1.77, 85.0, 'castanho', 'castanho')\n",
    "        ProfessorObj = Professor(1.87, 75.0, 'loiro', 'azul', 2000.0)\n",
    "        print(PessoaObj.falar('Python é legal'))\n",
    "        print(PessoaObj.andar(7))\n",
    "        print(ProfessorObj.falar('Olá a todos')) # Polimorfismo de métodos vindo da classe pessoa\n",
    "        print(ProfessorObj.andar(9))\n",
    "\n",
    "if __name__ == '__main__':\n",
    "        main()"
   ]
  }
 ],
 "metadata": {
  "kernelspec": {
   "display_name": "Python 3.9.12 ('base')",
   "language": "python",
   "name": "python3"
  },
  "language_info": {
   "codemirror_mode": {
    "name": "ipython",
    "version": 3
   },
   "file_extension": ".py",
   "mimetype": "text/x-python",
   "name": "python",
   "nbconvert_exporter": "python",
   "pygments_lexer": "ipython3",
   "version": "3.9.12"
  },
  "orig_nbformat": 4,
  "vscode": {
   "interpreter": {
    "hash": "c2ac33c749b6f5a19513f23060cc56b0b221f5c5ec70c42654bc653f6cede32e"
   }
  }
 },
 "nbformat": 4,
 "nbformat_minor": 2
}
