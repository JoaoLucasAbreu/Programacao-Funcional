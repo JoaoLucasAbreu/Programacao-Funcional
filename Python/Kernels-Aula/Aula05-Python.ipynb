{
 "cells": [
  {
   "cell_type": "markdown",
   "metadata": {},
   "source": [
    "# Conexão com o Banco de Dados\n",
    "\n",
    "O famoso CRUD"
   ]
  },
  {
   "cell_type": "code",
   "execution_count": 2,
   "metadata": {},
   "outputs": [
    {
     "ename": "ProgrammingError",
     "evalue": "('42S22', \"[42S22] [Microsoft][ODBC SQL Server Driver][SQL Server]Invalid column name 'authorId'. (207) (SQLExecDirectW); [42S22] [Microsoft][ODBC SQL Server Driver][SQL Server]Invalid column name 'author'. (207)\")",
     "output_type": "error",
     "traceback": [
      "\u001b[1;31m---------------------------------------------------------------------------\u001b[0m",
      "\u001b[1;31mProgrammingError\u001b[0m                          Traceback (most recent call last)",
      "\u001b[1;32mc:\\Users\\J.ABREU\\OneDrive - ESPM\\4° SEMESTRE\\Python\\Kernels-Aula\\Aula05-Python.ipynb Célula: 2\u001b[0m in \u001b[0;36m<cell line: 12>\u001b[1;34m()\u001b[0m\n\u001b[0;32m      <a href='vscode-notebook-cell:/c%3A/Users/J.ABREU/OneDrive%20-%20ESPM/4%C2%B0%20SEMESTRE/Python/Kernels-Aula/Aula05-Python.ipynb#W1sZmlsZQ%3D%3D?line=8'>9</a>\u001b[0m cnxn \u001b[39m=\u001b[39m pyodbc\u001b[39m.\u001b[39mconnect(\u001b[39m'\u001b[39m\u001b[39mDRIVER=\u001b[39m\u001b[39m'\u001b[39m\u001b[39m+\u001b[39mdriver\u001b[39m+\u001b[39m\u001b[39m'\u001b[39m\u001b[39m;SERVER=\u001b[39m\u001b[39m'\u001b[39m\u001b[39m+\u001b[39mserver\u001b[39m+\u001b[39m\u001b[39m'\u001b[39m\u001b[39m;PORT=1433;DATABASE=\u001b[39m\u001b[39m'\u001b[39m\u001b[39m+\u001b[39mdatabase\u001b[39m+\u001b[39m\u001b[39m'\u001b[39m\u001b[39m;UID=\u001b[39m\u001b[39m'\u001b[39m\u001b[39m+\u001b[39musername\u001b[39m+\u001b[39m\u001b[39m'\u001b[39m\u001b[39m;PWD=\u001b[39m\u001b[39m'\u001b[39m\u001b[39m+\u001b[39mpassword)\n\u001b[0;32m     <a href='vscode-notebook-cell:/c%3A/Users/J.ABREU/OneDrive%20-%20ESPM/4%C2%B0%20SEMESTRE/Python/Kernels-Aula/Aula05-Python.ipynb#W1sZmlsZQ%3D%3D?line=9'>10</a>\u001b[0m cursor \u001b[39m=\u001b[39m cnxn\u001b[39m.\u001b[39mcursor()\n\u001b[1;32m---> <a href='vscode-notebook-cell:/c%3A/Users/J.ABREU/OneDrive%20-%20ESPM/4%C2%B0%20SEMESTRE/Python/Kernels-Aula/Aula05-Python.ipynb#W1sZmlsZQ%3D%3D?line=11'>12</a>\u001b[0m cursor\u001b[39m.\u001b[39;49mexecute(\u001b[39m'\u001b[39;49m\u001b[39mSELECT author FROM tb_pessoas WHERE authorId > 1\u001b[39;49m\u001b[39m'\u001b[39;49m)\n\u001b[0;32m     <a href='vscode-notebook-cell:/c%3A/Users/J.ABREU/OneDrive%20-%20ESPM/4%C2%B0%20SEMESTRE/Python/Kernels-Aula/Aula05-Python.ipynb#W1sZmlsZQ%3D%3D?line=13'>14</a>\u001b[0m \u001b[39mfor\u001b[39;00m linha \u001b[39min\u001b[39;00m cursor\u001b[39m.\u001b[39mfetchall():\n\u001b[0;32m     <a href='vscode-notebook-cell:/c%3A/Users/J.ABREU/OneDrive%20-%20ESPM/4%C2%B0%20SEMESTRE/Python/Kernels-Aula/Aula05-Python.ipynb#W1sZmlsZQ%3D%3D?line=14'>15</a>\u001b[0m     \u001b[39mprint\u001b[39m(linha)\n",
      "\u001b[1;31mProgrammingError\u001b[0m: ('42S22', \"[42S22] [Microsoft][ODBC SQL Server Driver][SQL Server]Invalid column name 'authorId'. (207) (SQLExecDirectW); [42S22] [Microsoft][ODBC SQL Server Driver][SQL Server]Invalid column name 'author'. (207)\")"
     ]
    }
   ],
   "source": [
    "import pyodbc\n",
    "\n",
    "server = 'dlapoio.database.windows.net'\n",
    "database = 'masterUber'\n",
    "username = 'andre'\n",
    "password = 'ShC12%Uz'\n",
    "driver = 'SQL Server'\n",
    "\n",
    "cnxn = pyodbc.connect('DRIVER='+driver+';SERVER='+server+';PORT=1433;DATABASE='+database+';UID='+username+';PWD='+password)\n",
    "cursor = cnxn.cursor()\n",
    "\n",
    "cursor.execute('SELECT author FROM tb_pessoas WHERE ')\n",
    "\n",
    "for linha in cursor.fetchall():\n",
    "    print(linha)"
   ]
  },
  {
   "cell_type": "markdown",
   "metadata": {},
   "source": [
    "## CREATE"
   ]
  },
  {
   "cell_type": "code",
   "execution_count": 1,
   "metadata": {},
   "outputs": [
    {
     "name": "stdout",
     "output_type": "stream",
     "text": [
      "Tabela criada com sucesso\n",
      "Tabela criada com sucesso\n"
     ]
    }
   ],
   "source": [
    "import sqlite3\n",
    "\n",
    "conn = sqlite3.connect('espm4s.db')\n",
    "\n",
    "cursor = conn.cursor()\n",
    "\n",
    "cursor.execute(\"\"\"\n",
    "CREATE TABLE IF NOT EXISTS tb_estado(\n",
    "    estadoId INTEGER NOT NULL PRIMARY KEY AUTOINCREMENT,\n",
    "    nome TEXT NOT NULL\n",
    ")\n",
    "\"\"\")   \n",
    "\n",
    "print('Tabela criada com sucesso')\n",
    "\n",
    "conn.commit()\n",
    "\n",
    "cursor.execute(\"\"\"\n",
    "CREATE TABLE IF NOT EXISTS tb_pessoa(\n",
    "    pessoaId INTEGER NOT NULL PRIMARY KEY AUTOINCREMENT,\n",
    "    estadoId INTEGER,\n",
    "    nome TEXT NOT NULL,\n",
    "    idade INT NOT NULL,\n",
    "    FOREIGN KEY(estadoId) REFERENCES tb_estado(estadoId));\"\"\")\n",
    "\n",
    "conn.commit()\n",
    "\n",
    "print('Tabela criada com sucesso')\n",
    "\n",
    "conn.close()"
   ]
  },
  {
   "cell_type": "markdown",
   "metadata": {},
   "source": [
    "## INSERT"
   ]
  },
  {
   "cell_type": "code",
   "execution_count": 6,
   "metadata": {},
   "outputs": [
    {
     "name": "stdout",
     "output_type": "stream",
     "text": [
      "linha criada\n"
     ]
    }
   ],
   "source": [
    "import sqlite3\n",
    "\n",
    "conn = sqlite3.connect('espm4s.db')\n",
    "\n",
    "cursor = conn.cursor()\n",
    "\n",
    "nome = input('Digite o nome: ')\n",
    "idade = int(input('Digite a idade: '))\n",
    "\n",
    "cursor.execute('INSERT INTO tb_estado (nome) VALUES (?)', (\"São Paulo\",))\n",
    "cursor.execute('INSERT INTO tb_pessoa (nome,idade,estadoId) VALUES (?,?,?)', (nome, idade, 1))\n",
    "\n",
    "print('linha criada')\n",
    "\n",
    "conn.commit()\n",
    "\n",
    "conn.close()"
   ]
  },
  {
   "cell_type": "markdown",
   "metadata": {},
   "source": [
    "## UPDATE"
   ]
  },
  {
   "cell_type": "code",
   "execution_count": 4,
   "metadata": {},
   "outputs": [
    {
     "name": "stdout",
     "output_type": "stream",
     "text": [
      "update efetuado com sucesso\n"
     ]
    }
   ],
   "source": [
    "import sqlite3\n",
    "\n",
    "conn = sqlite3.connect('espm4s.db')\n",
    "\n",
    "cursor = conn.cursor()\n",
    "\n",
    "cursor.execute('UPDATE tb_pessoa SET nome = ? WHERE pessoaId = ?', ('João', 1))\n",
    "\n",
    "print('update efetuado com sucesso')\n",
    "\n",
    "conn.commit()\n",
    "\n",
    "conn.close()"
   ]
  },
  {
   "cell_type": "markdown",
   "metadata": {},
   "source": [
    "## DELETE"
   ]
  },
  {
   "cell_type": "code",
   "execution_count": 5,
   "metadata": {},
   "outputs": [
    {
     "name": "stdout",
     "output_type": "stream",
     "text": [
      "deletado com sucesso\n"
     ]
    }
   ],
   "source": [
    "import sqlite3\n",
    "\n",
    "conn = sqlite3.connect('espm4s.db')\n",
    "\n",
    "cursor = conn.cursor()\n",
    "\n",
    "cursor.execute('DELETE FROM tb_pessoa WHERE pessoaId = 1')\n",
    "\n",
    "print('deletado com sucesso')\n",
    "\n",
    "conn.commit()\n",
    "\n",
    "conn.close()"
   ]
  },
  {
   "cell_type": "markdown",
   "metadata": {},
   "source": [
    "## SELECT"
   ]
  },
  {
   "cell_type": "code",
   "execution_count": 11,
   "metadata": {},
   "outputs": [
    {
     "name": "stdout",
     "output_type": "stream",
     "text": [
      "(2, 1, 'João Lucas', 19, 1, 'São Paulo')\n"
     ]
    }
   ],
   "source": [
    "import sqlite3\n",
    "\n",
    "conn = sqlite3.connect('espm4s.db')\n",
    "\n",
    "cursor = conn.cursor()\n",
    "\n",
    "cursor.execute('SELECT * FROM tb_pessoa INNER JOIN tb_estado on tb_estado.estadoId = tb_pessoa.estadoId')\n",
    "select = cursor.fetchone()\n",
    "print(select)\n",
    "\n",
    "conn.close()"
   ]
  }
 ],
 "metadata": {
  "kernelspec": {
   "display_name": "Python 3.9.12 ('base')",
   "language": "python",
   "name": "python3"
  },
  "language_info": {
   "codemirror_mode": {
    "name": "ipython",
    "version": 3
   },
   "file_extension": ".py",
   "mimetype": "text/x-python",
   "name": "python",
   "nbconvert_exporter": "python",
   "pygments_lexer": "ipython3",
   "version": "3.9.12"
  },
  "orig_nbformat": 4,
  "vscode": {
   "interpreter": {
    "hash": "c2ac33c749b6f5a19513f23060cc56b0b221f5c5ec70c42654bc653f6cede32e"
   }
  }
 },
 "nbformat": 4,
 "nbformat_minor": 2
}
