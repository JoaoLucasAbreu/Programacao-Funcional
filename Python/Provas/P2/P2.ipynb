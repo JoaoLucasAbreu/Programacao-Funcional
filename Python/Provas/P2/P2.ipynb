{
 "cells": [
  {
   "cell_type": "markdown",
   "metadata": {},
   "source": [
    "# Prova Parcial 2\n",
    "Nos exercícios da prova as funções devem ser definidas utilizando paradigma funcional com funções \n",
    "primitivas como: map, reduce, filter, entre outras. Podendo também recorrer a outros conceitos de \n",
    "programação funcional. Recorde que para poder o combinador reduce precisa importar: “from \n",
    "functools import reduce”."
   ]
  },
  {
   "cell_type": "markdown",
   "metadata": {},
   "source": [
    "## Exercício 1\n",
    "Defina a função fibonacci que recebe como argumento um número natural $n$ e devolve o \n",
    "$n$-ésimo número da sucessão de Fibonacci. Recorde que a sucessão dos números de \n",
    "Fibonacci é definida recursivamente como se segue: <br>\n",
    "* fibonacci(1)=1<br>\n",
    "* fibonacci(2)=1<br>\n",
    "* fibonacci(n+2)= fibonacci(n+1)+ fibonacci(n)"
   ]
  },
  {
   "cell_type": "code",
   "execution_count": 51,
   "metadata": {},
   "outputs": [
    {
     "data": {
      "text/plain": [
       "13"
      ]
     },
     "execution_count": 51,
     "metadata": {},
     "output_type": "execute_result"
    }
   ],
   "source": [
    "def fibonacci(n):\n",
    "    #return 1 if n <= 2 else fibonacci(n-1) + fibonacci(n-2)\n",
    "    return fibonacci(n-1) + fibonacci(n-2) if n > 2 else (1 if n > 0 else 0)\n",
    "    \n",
    "fibonacci(7)"
   ]
  },
  {
   "cell_type": "markdown",
   "metadata": {},
   "source": [
    "## Exercício 2\n",
    "Defina a função soma_nat que recebe como argumento um número natural $n$ e devolve \n",
    "a soma de todos os números naturais até $n$.\n",
    "* Enunciado da função: soma_nat(10)\n",
    "* Resultado da função: 55"
   ]
  },
  {
   "cell_type": "code",
   "execution_count": 52,
   "metadata": {
    "tags": []
   },
   "outputs": [
    {
     "data": {
      "text/plain": [
       "55"
      ]
     },
     "execution_count": 52,
     "metadata": {},
     "output_type": "execute_result"
    }
   ],
   "source": [
    "from functools import reduce\n",
    "\n",
    "def soma_nat(n):\n",
    "    return reduce(lambda soma, nat: soma + nat, range(1, n+1), 0)\n",
    "        \n",
    "soma_nat(10)"
   ]
  },
  {
   "cell_type": "markdown",
   "metadata": {},
   "source": [
    "## Exercício 3\n",
    "Defina a função quadrados que recebe como argumento um número natural $n$ devolve a \n",
    "lista dos $n$ primeiros quadrados perfeitos.\n",
    "* Enunciado da função : quadrados(5)\n",
    "* Resultado da função: [1, 4, 9, 16, 25]"
   ]
  },
  {
   "cell_type": "code",
   "execution_count": 55,
   "metadata": {},
   "outputs": [
    {
     "data": {
      "text/plain": [
       "[1, 4, 9, 16, 25]"
      ]
     },
     "execution_count": 55,
     "metadata": {},
     "output_type": "execute_result"
    }
   ],
   "source": [
    "def quadrados(n):\n",
    "    return list(map(lambda num: num**2, range(1, n+1)))\n",
    "\n",
    "quadrados(5)"
   ]
  },
  {
   "cell_type": "markdown",
   "metadata": {},
   "source": [
    "## Exercício 4\n",
    "Defina a função quadrados_inv que recebe como argumento um número natural $n$ \n",
    "devolve a lista dos $n$ primeiros quadrados perfeitos, por ordem decrescente.\n",
    "* Enunciado da função : quadrados_inv(5)\n",
    "* Resultado da função: [25, 16, 9, 4, 1]"
   ]
  },
  {
   "cell_type": "code",
   "execution_count": 56,
   "metadata": {},
   "outputs": [
    {
     "data": {
      "text/plain": [
       "[25, 16, 9, 4, 1]"
      ]
     },
     "execution_count": 56,
     "metadata": {},
     "output_type": "execute_result"
    }
   ],
   "source": [
    "def quadrados_inv(n):\n",
    "    return list(map(lambda num: num**2, range(1, n+1)))[::-1]\n",
    "\n",
    "quadrados_inv(5)"
   ]
  },
  {
   "cell_type": "markdown",
   "metadata": {},
   "source": [
    "## Exercício 5\n",
    "Defina a função indices_pares que recebe como argumento uma lista de números inteiros \n",
    "$w$ e devolve a lista dos elementos de $w$ em posições pares.\n",
    "* Enunciado da função : indices_pares([4,3,7,1,2,9])\n",
    "* Resultado da função: [4, 7, 2]"
   ]
  },
  {
   "cell_type": "code",
   "execution_count": 1,
   "metadata": {},
   "outputs": [
    {
     "data": {
      "text/plain": [
       "[4, 7, 2]"
      ]
     },
     "execution_count": 1,
     "metadata": {},
     "output_type": "execute_result"
    }
   ],
   "source": [
    "def indices_pares(lista):\n",
    "    return lista[::2]\n",
    "\n",
    "indices_pares([4,3,7,1,2,9])"
   ]
  },
  {
   "cell_type": "markdown",
   "metadata": {},
   "source": [
    "## Exercício 6\n",
    "Para a lista \n",
    "pessoas = [{'nome': 'Pedro', 'idade': 11},<br>\n",
    "   {'nome': 'Mariana', 'idade': 18},<br>\n",
    "   {'nome': 'Arthur', 'idade': 26},<br>\n",
    "   {'nome': 'Rebeca', 'idade': 6},<br>\n",
    "   {'nome': Raquel, 'idade': 34},<br>\n",
    "   {'nome': 'André', 'idade':22},<br>\n",
    "   {'nome': 'Tiago', 'idade': 19},<br>\n",
    "   {'nome': 'Gabriela', 'idade': 127}]<br>\n",
    "Utilizando apenas função lambda e as funções map, reduce e filter. Crie um script que some todas as \n",
    "idades das pessoas com mais de 18 anos e menos que 30:"
   ]
  },
  {
   "cell_type": "code",
   "execution_count": 58,
   "metadata": {},
   "outputs": [
    {
     "name": "stdout",
     "output_type": "stream",
     "text": [
      "67\n"
     ]
    }
   ],
   "source": [
    "from functools import reduce\n",
    "\n",
    "pessoas = [{'nome': 'Pedro', 'idade': 11},\n",
    "   {'nome': 'Mariana', 'idade': 18},\n",
    "   {'nome': 'Arthur', 'idade': 26},\n",
    "   {'nome': 'Rebeca', 'idade': 6},\n",
    "   {'nome': 'Raquel', 'idade': 34},\n",
    "   {'nome': 'André', 'idade':22},\n",
    "   {'nome': 'Tiago', 'idade': 19},\n",
    "   {'nome': 'Gabriela', 'idade': 127}]\n",
    "\n",
    "soma_idades = reduce(lambda idade, f: idade + f, filter(lambda f: f > 18 and f < 30, map(lambda i: i['idade'], pessoas)), 0)\n",
    "print(soma_idades)\n",
    "\n"
   ]
  }
 ],
 "metadata": {
  "kernelspec": {
   "display_name": "Python 3.9.12 ('base')",
   "language": "python",
   "name": "python3"
  },
  "language_info": {
   "codemirror_mode": {
    "name": "ipython",
    "version": 3
   },
   "file_extension": ".py",
   "mimetype": "text/x-python",
   "name": "python",
   "nbconvert_exporter": "python",
   "pygments_lexer": "ipython3",
   "version": "3.9.12"
  },
  "orig_nbformat": 4,
  "vscode": {
   "interpreter": {
    "hash": "c2ac33c749b6f5a19513f23060cc56b0b221f5c5ec70c42654bc653f6cede32e"
   }
  }
 },
 "nbformat": 4,
 "nbformat_minor": 2
}
